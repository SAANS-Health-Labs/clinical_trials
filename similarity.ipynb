{
 "cells": [
  {
   "cell_type": "markdown",
   "id": "254e2037",
   "metadata": {},
   "source": [
    "# Use environment: transformer"
   ]
  },
  {
   "cell_type": "code",
   "execution_count": 1,
   "id": "81533ecf",
   "metadata": {},
   "outputs": [],
   "source": [
    "# RESOURCES\n",
    "# https://stackoverflow.com/questions/63461262/bert-sentence-embeddings-from-transformers\n",
    "# https://chtalhaanwar.medium.com/measure-sentence-similarity-using-the-pre-trained-bert-model-eeaf20bc1933"
   ]
  },
  {
   "cell_type": "code",
   "execution_count": 2,
   "id": "460fbdf1",
   "metadata": {},
   "outputs": [
    {
     "name": "stdout",
     "output_type": "stream",
     "text": [
      "Last modified by Xiaoqing: 211115\n"
     ]
    }
   ],
   "source": [
    "from datetime import datetime\n",
    "date = datetime.today().strftime('%y%m%d')\n",
    "print ('Last modified by Xiaoqing: ' + date)"
   ]
  },
  {
   "cell_type": "code",
   "execution_count": 3,
   "id": "6662d620",
   "metadata": {},
   "outputs": [],
   "source": [
    "import torch #pytorch\n",
    "from transformers import AutoTokenizer, AutoModel\n",
    "from sklearn.metrics.pairwise import cosine_similarity #for similarity\n",
    "import pandas as pd"
   ]
  },
  {
   "cell_type": "code",
   "execution_count": 4,
   "id": "57c258ed",
   "metadata": {},
   "outputs": [
    {
     "name": "stderr",
     "output_type": "stream",
     "text": [
      "Some weights of the model checkpoint at emilyalsentzer/Bio_ClinicalBERT were not used when initializing BertModel: ['cls.predictions.decoder.weight', 'cls.predictions.transform.LayerNorm.bias', 'cls.predictions.transform.dense.bias', 'cls.predictions.bias', 'cls.seq_relationship.bias', 'cls.seq_relationship.weight', 'cls.predictions.transform.LayerNorm.weight', 'cls.predictions.transform.dense.weight']\n",
      "- This IS expected if you are initializing BertModel from the checkpoint of a model trained on another task or with another architecture (e.g. initializing a BertForSequenceClassification model from a BertForPreTraining model).\n",
      "- This IS NOT expected if you are initializing BertModel from the checkpoint of a model that you expect to be exactly identical (initializing a BertForSequenceClassification model from a BertForSequenceClassification model).\n"
     ]
    }
   ],
   "source": [
    "tokenizer = AutoTokenizer.from_pretrained(\"emilyalsentzer/Bio_ClinicalBERT\")\n",
    "model = AutoModel.from_pretrained(\"emilyalsentzer/Bio_ClinicalBERT\", output_hidden_states=True)"
   ]
  },
  {
   "cell_type": "code",
   "execution_count": 5,
   "id": "2939f8bf",
   "metadata": {},
   "outputs": [],
   "source": [
    "#create embeddings\n",
    "def get_embeddings(text,token_length):\n",
    "  tokens=tokenizer(text,max_length=token_length,padding='max_length',truncation=True)\n",
    "  output=model(torch.tensor(tokens.input_ids).unsqueeze(0),\n",
    "               attention_mask=torch.tensor(tokens.attention_mask).unsqueeze(0)).hidden_states[-1]\n",
    "  return torch.mean(output,axis=1).detach().numpy()\n",
    "\n",
    "#calculate similarity\n",
    "def calculate_similarity(text1,text2,token_length=20):\n",
    "    out1=get_embeddings(text1,token_length=token_length)#create embeddings of text\n",
    "    out2=get_embeddings(text2,token_length=token_length)#create embeddings of text\n",
    "    sim=cosine_similarity(out1,out2)[0][0]\n",
    "    return sim"
   ]
  },
  {
   "cell_type": "code",
   "execution_count": 6,
   "id": "4fcc8ef1",
   "metadata": {},
   "outputs": [],
   "source": [
    "# text1='Pneumonia'\n",
    "# text2='Headache'\n",
    "# calculate_similarity(text1,text2)\n",
    "\n",
    "# text1='Pneumonia'\n",
    "# text2='Tuberculosis'\n",
    "# calculate_similarity(text1,text2)\n",
    "\n",
    "# text1='Pneumonia'\n",
    "# text2='some random stuff'\n",
    "# calculate_similarity(text1,text2)"
   ]
  },
  {
   "cell_type": "code",
   "execution_count": null,
   "id": "5e23fa1e",
   "metadata": {},
   "outputs": [],
   "source": []
  },
  {
   "cell_type": "code",
   "execution_count": null,
   "id": "db91e602",
   "metadata": {},
   "outputs": [],
   "source": []
  },
  {
   "cell_type": "markdown",
   "id": "00fb771c",
   "metadata": {},
   "source": [
    "# create three data frames: problem, test, treatment"
   ]
  },
  {
   "cell_type": "code",
   "execution_count": 7,
   "id": "2180e23c",
   "metadata": {},
   "outputs": [],
   "source": [
    "df1 = pd.read_csv('patients_ner_211112.csv') # 10 synthetic patients from google Drive\n",
    "df2 = pd.read_csv('trials_ner_211112.csv') # 5 real clinical trials from google Drive\n",
    "\n",
    "df3 = df1[df1['ent_type'] == 'PROBLEM']\n",
    "df4 = df2[df2['ent_type'] == 'PROBLEM']\n",
    "\n",
    "df5 = df1[df1['ent_type'] == 'TEST']\n",
    "df6 = df2[df2['ent_type'] == 'TEST']\n",
    "\n",
    "df7 = df1[df1['ent_type'] == 'TREATMENT']\n",
    "df8 = df2[df2['ent_type'] == 'TREATMENT']\n"
   ]
  },
  {
   "cell_type": "code",
   "execution_count": 8,
   "id": "0f9df376",
   "metadata": {},
   "outputs": [],
   "source": [
    "df_problem = pd.DataFrame(columns=['patient_id','trial_id','inclusion','similarity']) # create empty df with column names only so we can append rows to it\n",
    "df_test = pd.DataFrame(columns=['patient_id','trial_id','inclusion','similarity']) # create empty df with column names only so we can append rows to it\n",
    "df_treatment = pd.DataFrame(columns=['patient_id','trial_id','inclusion','similarity']) # create empty df with column names only so we can append rows to it\n"
   ]
  },
  {
   "cell_type": "markdown",
   "id": "0d26a37e",
   "metadata": {},
   "source": [
    "# For each patient-clinical-trial pair, calculate similarities"
   ]
  },
  {
   "cell_type": "code",
   "execution_count": 9,
   "id": "c909abcf",
   "metadata": {},
   "outputs": [
    {
     "name": "stdout",
     "output_type": "stream",
     "text": [
      "CPU times: user 15min 23s, sys: 8.29 s, total: 15min 31s\n",
      "Wall time: 15min 26s\n"
     ]
    }
   ],
   "source": [
    "%%time\n",
    "for index1, row1 in df3.iterrows():\n",
    "    for index2, row2 in df4.iterrows(): \n",
    "        simi = calculate_similarity(row1['sentence'],row2['sentence'])\n",
    "        df_problem = df_problem.append({'patient_id': row1['patient_id'],'trial_id': row2['trial_id'],'inclusion': row2['inclusion'],'prob_sim': simi}, ignore_index = True)\n",
    "    "
   ]
  },
  {
   "cell_type": "code",
   "execution_count": 10,
   "id": "a836be21",
   "metadata": {},
   "outputs": [
    {
     "data": {
      "text/html": [
       "<div>\n",
       "<style scoped>\n",
       "    .dataframe tbody tr th:only-of-type {\n",
       "        vertical-align: middle;\n",
       "    }\n",
       "\n",
       "    .dataframe tbody tr th {\n",
       "        vertical-align: top;\n",
       "    }\n",
       "\n",
       "    .dataframe thead th {\n",
       "        text-align: right;\n",
       "    }\n",
       "</style>\n",
       "<table border=\"1\" class=\"dataframe\">\n",
       "  <thead>\n",
       "    <tr style=\"text-align: right;\">\n",
       "      <th></th>\n",
       "      <th>patient_id</th>\n",
       "      <th>trial_id</th>\n",
       "      <th>inclusion</th>\n",
       "      <th>similarity</th>\n",
       "      <th>prob_sim</th>\n",
       "    </tr>\n",
       "  </thead>\n",
       "  <tbody>\n",
       "    <tr>\n",
       "      <th>0</th>\n",
       "      <td>1.0</td>\n",
       "      <td>1.0</td>\n",
       "      <td>1.0</td>\n",
       "      <td>NaN</td>\n",
       "      <td>0.889920</td>\n",
       "    </tr>\n",
       "    <tr>\n",
       "      <th>1</th>\n",
       "      <td>1.0</td>\n",
       "      <td>1.0</td>\n",
       "      <td>0.0</td>\n",
       "      <td>NaN</td>\n",
       "      <td>0.883804</td>\n",
       "    </tr>\n",
       "    <tr>\n",
       "      <th>2</th>\n",
       "      <td>1.0</td>\n",
       "      <td>1.0</td>\n",
       "      <td>0.0</td>\n",
       "      <td>NaN</td>\n",
       "      <td>0.885631</td>\n",
       "    </tr>\n",
       "    <tr>\n",
       "      <th>3</th>\n",
       "      <td>1.0</td>\n",
       "      <td>1.0</td>\n",
       "      <td>0.0</td>\n",
       "      <td>NaN</td>\n",
       "      <td>0.915829</td>\n",
       "    </tr>\n",
       "    <tr>\n",
       "      <th>4</th>\n",
       "      <td>1.0</td>\n",
       "      <td>1.0</td>\n",
       "      <td>0.0</td>\n",
       "      <td>NaN</td>\n",
       "      <td>0.857459</td>\n",
       "    </tr>\n",
       "  </tbody>\n",
       "</table>\n",
       "</div>"
      ],
      "text/plain": [
       "   patient_id  trial_id  inclusion  similarity  prob_sim\n",
       "0         1.0       1.0        1.0         NaN  0.889920\n",
       "1         1.0       1.0        0.0         NaN  0.883804\n",
       "2         1.0       1.0        0.0         NaN  0.885631\n",
       "3         1.0       1.0        0.0         NaN  0.915829\n",
       "4         1.0       1.0        0.0         NaN  0.857459"
      ]
     },
     "execution_count": 10,
     "metadata": {},
     "output_type": "execute_result"
    }
   ],
   "source": [
    "df_problem.head()"
   ]
  },
  {
   "cell_type": "code",
   "execution_count": 11,
   "id": "9cd8cb0f",
   "metadata": {},
   "outputs": [
    {
     "name": "stdout",
     "output_type": "stream",
     "text": [
      "CPU times: user 16min 9s, sys: 9 s, total: 16min 18s\n",
      "Wall time: 16min 11s\n"
     ]
    }
   ],
   "source": [
    "%%time\n",
    "for index1, row1 in df5.iterrows():\n",
    "    for index2, row2 in df6.iterrows(): \n",
    "        simi = calculate_similarity(row1['sentence'],row2['sentence'])\n",
    "        df_test = df_test.append({'patient_id': row1['patient_id'],'trial_id': row2['trial_id'],'inclusion': row2['inclusion'],'test_sim': simi}, ignore_index = True)\n",
    "    "
   ]
  },
  {
   "cell_type": "code",
   "execution_count": 12,
   "id": "c3ed7be5",
   "metadata": {},
   "outputs": [
    {
     "name": "stdout",
     "output_type": "stream",
     "text": [
      "CPU times: user 8min 29s, sys: 4.69 s, total: 8min 34s\n",
      "Wall time: 8min 30s\n"
     ]
    }
   ],
   "source": [
    "%%time\n",
    "for index1, row1 in df7.iterrows():\n",
    "    for index2, row2 in df8.iterrows(): \n",
    "        simi = calculate_similarity(row1['sentence'],row2['sentence'])\n",
    "        df_treatment = df_treatment.append({'patient_id': row1['patient_id'],'trial_id': row2['trial_id'],'inclusion': row2['inclusion'],'treat_sim': simi}, ignore_index = True)\n",
    "    "
   ]
  },
  {
   "cell_type": "code",
   "execution_count": 13,
   "id": "dd136e10",
   "metadata": {},
   "outputs": [],
   "source": [
    "df9 = df_problem.groupby(['patient_id', 'trial_id', 'inclusion'])['prob_sim'].mean().reset_index()\n",
    "df10 = df_test.groupby(['patient_id', 'trial_id', 'inclusion'])['test_sim'].mean().reset_index()\n",
    "df11 = df_treatment.groupby(['patient_id', 'trial_id', 'inclusion'])['treat_sim'].mean().reset_index()"
   ]
  },
  {
   "cell_type": "code",
   "execution_count": 14,
   "id": "095f0599",
   "metadata": {},
   "outputs": [],
   "source": [
    "key = ['patient_id', 'trial_id', 'inclusion']\n",
    "df12 = df9.merge(df10, on=key, how='outer').merge(df11, on=key, how='outer')\n"
   ]
  },
  {
   "cell_type": "code",
   "execution_count": 15,
   "id": "88b6cccd",
   "metadata": {},
   "outputs": [
    {
     "data": {
      "text/html": [
       "<div>\n",
       "<style scoped>\n",
       "    .dataframe tbody tr th:only-of-type {\n",
       "        vertical-align: middle;\n",
       "    }\n",
       "\n",
       "    .dataframe tbody tr th {\n",
       "        vertical-align: top;\n",
       "    }\n",
       "\n",
       "    .dataframe thead th {\n",
       "        text-align: right;\n",
       "    }\n",
       "</style>\n",
       "<table border=\"1\" class=\"dataframe\">\n",
       "  <thead>\n",
       "    <tr style=\"text-align: right;\">\n",
       "      <th></th>\n",
       "      <th>patient_id</th>\n",
       "      <th>trial_id</th>\n",
       "      <th>inclusion</th>\n",
       "      <th>prob_sim</th>\n",
       "      <th>test_sim</th>\n",
       "      <th>treat_sim</th>\n",
       "    </tr>\n",
       "  </thead>\n",
       "  <tbody>\n",
       "    <tr>\n",
       "      <th>0</th>\n",
       "      <td>1.0</td>\n",
       "      <td>1.0</td>\n",
       "      <td>0.0</td>\n",
       "      <td>0.882579</td>\n",
       "      <td>0.769954</td>\n",
       "      <td>0.824857</td>\n",
       "    </tr>\n",
       "    <tr>\n",
       "      <th>1</th>\n",
       "      <td>1.0</td>\n",
       "      <td>1.0</td>\n",
       "      <td>1.0</td>\n",
       "      <td>0.889920</td>\n",
       "      <td>0.816201</td>\n",
       "      <td>NaN</td>\n",
       "    </tr>\n",
       "    <tr>\n",
       "      <th>2</th>\n",
       "      <td>1.0</td>\n",
       "      <td>2.0</td>\n",
       "      <td>0.0</td>\n",
       "      <td>0.867623</td>\n",
       "      <td>0.779779</td>\n",
       "      <td>0.803614</td>\n",
       "    </tr>\n",
       "    <tr>\n",
       "      <th>3</th>\n",
       "      <td>1.0</td>\n",
       "      <td>2.0</td>\n",
       "      <td>1.0</td>\n",
       "      <td>0.866833</td>\n",
       "      <td>0.769566</td>\n",
       "      <td>0.813542</td>\n",
       "    </tr>\n",
       "    <tr>\n",
       "      <th>4</th>\n",
       "      <td>1.0</td>\n",
       "      <td>3.0</td>\n",
       "      <td>0.0</td>\n",
       "      <td>0.894545</td>\n",
       "      <td>0.779701</td>\n",
       "      <td>0.822263</td>\n",
       "    </tr>\n",
       "    <tr>\n",
       "      <th>5</th>\n",
       "      <td>1.0</td>\n",
       "      <td>3.0</td>\n",
       "      <td>1.0</td>\n",
       "      <td>0.911047</td>\n",
       "      <td>0.782193</td>\n",
       "      <td>0.747964</td>\n",
       "    </tr>\n",
       "    <tr>\n",
       "      <th>6</th>\n",
       "      <td>1.0</td>\n",
       "      <td>4.0</td>\n",
       "      <td>0.0</td>\n",
       "      <td>0.814233</td>\n",
       "      <td>NaN</td>\n",
       "      <td>0.782762</td>\n",
       "    </tr>\n",
       "    <tr>\n",
       "      <th>7</th>\n",
       "      <td>1.0</td>\n",
       "      <td>4.0</td>\n",
       "      <td>1.0</td>\n",
       "      <td>0.857412</td>\n",
       "      <td>0.758333</td>\n",
       "      <td>0.808552</td>\n",
       "    </tr>\n",
       "    <tr>\n",
       "      <th>8</th>\n",
       "      <td>1.0</td>\n",
       "      <td>5.0</td>\n",
       "      <td>0.0</td>\n",
       "      <td>0.810141</td>\n",
       "      <td>0.756612</td>\n",
       "      <td>0.760447</td>\n",
       "    </tr>\n",
       "    <tr>\n",
       "      <th>9</th>\n",
       "      <td>1.0</td>\n",
       "      <td>5.0</td>\n",
       "      <td>1.0</td>\n",
       "      <td>0.799751</td>\n",
       "      <td>0.756208</td>\n",
       "      <td>0.739020</td>\n",
       "    </tr>\n",
       "    <tr>\n",
       "      <th>10</th>\n",
       "      <td>2.0</td>\n",
       "      <td>1.0</td>\n",
       "      <td>0.0</td>\n",
       "      <td>0.831777</td>\n",
       "      <td>0.782803</td>\n",
       "      <td>0.805859</td>\n",
       "    </tr>\n",
       "    <tr>\n",
       "      <th>11</th>\n",
       "      <td>2.0</td>\n",
       "      <td>1.0</td>\n",
       "      <td>1.0</td>\n",
       "      <td>0.847236</td>\n",
       "      <td>0.822818</td>\n",
       "      <td>NaN</td>\n",
       "    </tr>\n",
       "    <tr>\n",
       "      <th>12</th>\n",
       "      <td>2.0</td>\n",
       "      <td>2.0</td>\n",
       "      <td>0.0</td>\n",
       "      <td>0.825644</td>\n",
       "      <td>0.786931</td>\n",
       "      <td>0.798782</td>\n",
       "    </tr>\n",
       "    <tr>\n",
       "      <th>13</th>\n",
       "      <td>2.0</td>\n",
       "      <td>2.0</td>\n",
       "      <td>1.0</td>\n",
       "      <td>0.832053</td>\n",
       "      <td>0.783921</td>\n",
       "      <td>0.837823</td>\n",
       "    </tr>\n",
       "    <tr>\n",
       "      <th>14</th>\n",
       "      <td>2.0</td>\n",
       "      <td>3.0</td>\n",
       "      <td>0.0</td>\n",
       "      <td>0.835552</td>\n",
       "      <td>0.785099</td>\n",
       "      <td>0.828187</td>\n",
       "    </tr>\n",
       "  </tbody>\n",
       "</table>\n",
       "</div>"
      ],
      "text/plain": [
       "    patient_id  trial_id  inclusion  prob_sim  test_sim  treat_sim\n",
       "0          1.0       1.0        0.0  0.882579  0.769954   0.824857\n",
       "1          1.0       1.0        1.0  0.889920  0.816201        NaN\n",
       "2          1.0       2.0        0.0  0.867623  0.779779   0.803614\n",
       "3          1.0       2.0        1.0  0.866833  0.769566   0.813542\n",
       "4          1.0       3.0        0.0  0.894545  0.779701   0.822263\n",
       "5          1.0       3.0        1.0  0.911047  0.782193   0.747964\n",
       "6          1.0       4.0        0.0  0.814233       NaN   0.782762\n",
       "7          1.0       4.0        1.0  0.857412  0.758333   0.808552\n",
       "8          1.0       5.0        0.0  0.810141  0.756612   0.760447\n",
       "9          1.0       5.0        1.0  0.799751  0.756208   0.739020\n",
       "10         2.0       1.0        0.0  0.831777  0.782803   0.805859\n",
       "11         2.0       1.0        1.0  0.847236  0.822818        NaN\n",
       "12         2.0       2.0        0.0  0.825644  0.786931   0.798782\n",
       "13         2.0       2.0        1.0  0.832053  0.783921   0.837823\n",
       "14         2.0       3.0        0.0  0.835552  0.785099   0.828187"
      ]
     },
     "execution_count": 15,
     "metadata": {},
     "output_type": "execute_result"
    }
   ],
   "source": [
    "df12.head(15)"
   ]
  },
  {
   "cell_type": "markdown",
   "id": "6ade25cf",
   "metadata": {},
   "source": [
    "# Save CSV "
   ]
  },
  {
   "cell_type": "code",
   "execution_count": 17,
   "id": "d3e2a743",
   "metadata": {},
   "outputs": [],
   "source": [
    "df12.to_csv(('demo_'+ date + '.csv'),index = False)"
   ]
  }
 ],
 "metadata": {
  "kernelspec": {
   "display_name": "Python 3 (ipykernel)",
   "language": "python",
   "name": "python3"
  },
  "language_info": {
   "codemirror_mode": {
    "name": "ipython",
    "version": 3
   },
   "file_extension": ".py",
   "mimetype": "text/x-python",
   "name": "python",
   "nbconvert_exporter": "python",
   "pygments_lexer": "ipython3",
   "version": "3.8.12"
  }
 },
 "nbformat": 4,
 "nbformat_minor": 5
}
